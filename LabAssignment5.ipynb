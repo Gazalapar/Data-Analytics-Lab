{
  "nbformat": 4,
  "nbformat_minor": 0,
  "metadata": {
    "colab": {
      "provenance": [],
      "authorship_tag": "ABX9TyMVyrT68lnF8IFm36uAHc/c",
      "include_colab_link": true
    },
    "kernelspec": {
      "name": "python3",
      "display_name": "Python 3"
    },
    "language_info": {
      "name": "python"
    }
  },
  "cells": [
    {
      "cell_type": "markdown",
      "metadata": {
        "id": "view-in-github",
        "colab_type": "text"
      },
      "source": [
        "<a href=\"https://colab.research.google.com/github/Gazalapar/Data-Analytics-Lab/blob/main/LabAssignment5.ipynb\" target=\"_parent\"><img src=\"https://colab.research.google.com/assets/colab-badge.svg\" alt=\"Open In Colab\"/></a>"
      ]
    },
    {
      "cell_type": "markdown",
      "source": [
        "Assignment-5\n",
        "Q.1.\tUsing the dataset given below find the distance matrix (Dissimilarity) for the dataset\n",
        "Id\tTest-1 (Nominal)\t Test-2 (Ordinal)\t  Test-3 (Numerical)\n",
        "1\t    A                 \tLow priority\t       45\n",
        "2    \tB\t                    Urgent             93\n",
        "3\t    B\t                  High Priority        65\n",
        "4    \tC\t                  High Priority        74\n",
        "5   \tA                 \tLow priority\t       23\n",
        "\n",
        "Solution will be evaluated based on the minimum use of already available functions in Python.\n",
        "\n"
      ],
      "metadata": {
        "id": "rJ3D2Dmrt9qX"
      }
    },
    {
      "cell_type": "code",
      "source": [
        "\n",
        "data = [\n",
        "    ['A',  'Low priority', 45],\n",
        "    ['B',  'Urgent',       93],\n",
        "    ['B',  'High Priority',65],\n",
        "    ['C',  'High Priority',74],\n",
        "    ['A',  'Low priority', 23]\n",
        "]\n",
        "\n",
        "# Ordinal conversion dictionary\n",
        "ordinal_mapping = {\n",
        "    'Low priority': 1,\n",
        "    'High Priority': 2,\n",
        "    'Urgent': 3\n",
        "}\n",
        "\n",
        "# Convert ordinal values to numerical\n",
        "for row in data:\n",
        "    row[1] = ordinal_mapping[row[1]]\n",
        "\n",
        "# Function to calculate dissimilarity between two rows\n",
        "def dissimilarity(row1, row2):\n",
        "    # Nominal dissimilarity: 0 if same, 1 if different\n",
        "    nominal_dissimilarity = 0 if row1[0] == row2[0] else 1\n",
        "\n",
        "    # Ordinal dissimilarity: Absolute difference\n",
        "    ordinal_dissimilarity = abs(row1[1] - row2[1])\n",
        "\n",
        "    # Numerical dissimilarity: Absolute difference\n",
        "    numerical_dissimilarity = abs(row1[2] - row2[2])\n",
        "\n",
        "    # Total dissimilarity is the sum of individual dissimilarities\n",
        "    total_dissimilarity = nominal_dissimilarity + ordinal_dissimilarity + numerical_dissimilarity\n",
        "    return total_dissimilarity\n",
        "\n",
        "# Calculate distance (dissimilarity) matrix manually\n",
        "n = len(data)\n",
        "distance_matrix = []\n",
        "\n",
        "# Outer loop for rows\n",
        "for i in range(n):\n",
        "    row_distances = []  # This will store the dissimilarities for one row\n",
        "    for j in range(n):\n",
        "        if i != j:\n",
        "            # Calculate dissimilarity for different rows\n",
        "            row_distances.append(dissimilarity(data[i], data[j]))\n",
        "        else:\n",
        "            # Distance to itself is 0\n",
        "            row_distances.append(0)\n",
        "    distance_matrix.append(row_distances)  # Add the row to the matrix\n",
        "\n",
        "# Print the dissimilarity matrix\n",
        "print(\"Dissimilarity (Distance) Matrix:\")\n",
        "for row in distance_matrix:\n",
        "    print(row)\n"
      ],
      "metadata": {
        "colab": {
          "base_uri": "https://localhost:8080/"
        },
        "id": "6H0oCWb_vH6V",
        "outputId": "8e2f1641-6d56-4662-b2b9-2ba9222c29c8"
      },
      "execution_count": null,
      "outputs": [
        {
          "output_type": "stream",
          "name": "stdout",
          "text": [
            "Dissimilarity (Distance) Matrix:\n",
            "[0, 51, 22, 31, 22]\n",
            "[51, 0, 29, 21, 73]\n",
            "[22, 29, 0, 10, 44]\n",
            "[31, 21, 10, 0, 53]\n",
            "[22, 73, 44, 53, 0]\n"
          ]
        }
      ]
    }
  ]
}