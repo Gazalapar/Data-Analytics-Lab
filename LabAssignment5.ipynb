{
  "nbformat": 4,
  "nbformat_minor": 0,
  "metadata": {
    "colab": {
      "provenance": [],
      "authorship_tag": "ABX9TyM2tGIAALtVJvAy+SPEyi+L",
      "include_colab_link": true
    },
    "kernelspec": {
      "name": "python3",
      "display_name": "Python 3"
    },
    "language_info": {
      "name": "python"
    }
  },
  "cells": [
    {
      "cell_type": "markdown",
      "metadata": {
        "id": "view-in-github",
        "colab_type": "text"
      },
      "source": [
        "<a href=\"https://colab.research.google.com/github/Gazalapar/Data-Analytics-Lab/blob/main/LabAssignment5.ipynb\" target=\"_parent\"><img src=\"https://colab.research.google.com/assets/colab-badge.svg\" alt=\"Open In Colab\"/></a>"
      ]
    },
    {
      "cell_type": "markdown",
      "source": [
        "Assignment-5\n",
        "Q.1.\tUsing the dataset given below find the distance matrix (Dissimilarity) for the dataset\n",
        "Id\tTest-1 (Nominal)\t Test-2 (Ordinal)\t  Test-3 (Numerical)\n",
        "1\t    A                 \tLow priority\t       45\n",
        "2    \tB\t                    Urgent             93\n",
        "3\t    B\t                  High Priority        65\n",
        "4    \tC\t                  High Priority        74\n",
        "5   \tA                 \tLow priority\t       23\n",
        "\n",
        "Solution will be evaluated based on the minimum use of already available functions in Python.\n",
        "\n"
      ],
      "metadata": {
        "id": "rJ3D2Dmrt9qX"
      }
    },
    {
      "cell_type": "code",
      "source": [],
      "metadata": {
        "id": "uKCwgEK1iJyE"
      },
      "execution_count": null,
      "outputs": []
    },
    {
      "cell_type": "code",
      "source": [
        "data = [['A','Low Priority',45],\n",
        "        ['B','Urgent',93],\n",
        "        ['B','High Priority',65],\n",
        "        ['C','High Priority',74],\n",
        "        ['A','Low Priority',23]]\n",
        "\n",
        "# Step 1: Manual encoding of Nominal and Ordinal values\n",
        "# Encoding nominal data (Test-1)\n",
        "nominal_map = {'A': 0, 'B': 1, 'C': 2}\n",
        "nominal_encoded = [nominal_map[item[0]] for item in data]\n",
        "\n",
        "# Encoding ordinal data (Test-2)\n",
        "ordinal_map = {'Low Priority': 0, 'High Priority': 0.5, 'Urgent': 1}\n",
        "ordinal_encoded = [ordinal_map[item[1]] for item in data]\n",
        "\n",
        "# Extracting numerical data (Test-3)\n",
        "numerical_data = [item[2] for item in data]\n",
        "\n",
        "# Find max and min of the numerical feature for the new formula\n",
        "max_h = max(numerical_data)\n",
        "min_h = min(numerical_data)\n",
        "\n",
        "# Step 2: Calculate Dissimilarity Matrices\n",
        "\n",
        "# Nominal Dissimilarity Matrix\n",
        "nominal_matrix = [\n",
        "    [0 if i == j else 1 for j in range(len(data))]\n",
        "    for i in range(len(data))\n",
        "]\n",
        "\n",
        "# Ordinal Dissimilarity Matrix\n",
        "ordinal_matrix = [\n",
        "    [0 if i == j else abs(ordinal_encoded[i] - ordinal_encoded[j]) for j in range(len(data))]\n",
        "    for i in range(len(data))\n",
        "]\n",
        "\n",
        "# Numerical Dissimilarity Matrix using the normalized formula\n",
        "numerical_matrix = [\n",
        "    [0 if i == j else round(abs(numerical_data[i] - numerical_data[j]) / (max_h - min_h), 3) for j in range(len(data))]\n",
        "    for i in range(len(data))\n",
        "]\n",
        "\n",
        "# Step 3: Calculate Weighted Gower's Mixed Dissimilarity Matrix\n",
        "mixed_matrix = []\n",
        "for i in range(len(data)):\n",
        "  row=[]\n",
        "  for j in range(len(data)):\n",
        "     if i==j:\n",
        "       row.append(0)\n",
        "     else:\n",
        "        dn=1\n",
        "        do=1\n",
        "        dnu=1\n",
        "        sum=(dn* nominal_matrix[i][j] + do * ordinal_matrix[i][j] + dnu * numerical_matrix[i][j])\n",
        "        total=dn+do+dnu\n",
        "        distance=sum/total\n",
        "        row.append(round(distance,3))\n",
        "  mixed_matrix.append(row)\n",
        "\n",
        "# Step 4: Display the matrices\n",
        "def display_matrix(matrix, title):\n",
        "    print(title)\n",
        "    for row in matrix:\n",
        "        print(row)\n",
        "    print()  # Blank line for readability\n",
        "\n",
        "# Display all matrices\n",
        "display_matrix(nominal_matrix, \"Nominal Dissimilarity Matrix:\")\n",
        "display_matrix(ordinal_matrix, \"Ordinal Dissimilarity Matrix:\")\n",
        "display_matrix(numerical_matrix, \"Numerical Dissimilarity Matrix (using normalized formula):\")\n",
        "display_matrix(mixed_matrix, \"Weighted Gower's Mixed Dissimilarity Matrix:\")\n"
      ],
      "metadata": {
        "colab": {
          "base_uri": "https://localhost:8080/"
        },
        "id": "BUaqH3ANyhyv",
        "outputId": "39916f47-dba7-4917-d24e-624423024f94"
      },
      "execution_count": 1,
      "outputs": [
        {
          "output_type": "stream",
          "name": "stdout",
          "text": [
            "Nominal Dissimilarity Matrix:\n",
            "[0, 1, 1, 1, 1]\n",
            "[1, 0, 1, 1, 1]\n",
            "[1, 1, 0, 1, 1]\n",
            "[1, 1, 1, 0, 1]\n",
            "[1, 1, 1, 1, 0]\n",
            "\n",
            "Ordinal Dissimilarity Matrix:\n",
            "[0, 1, 0.5, 0.5, 0]\n",
            "[1, 0, 0.5, 0.5, 1]\n",
            "[0.5, 0.5, 0, 0.0, 0.5]\n",
            "[0.5, 0.5, 0.0, 0, 0.5]\n",
            "[0, 1, 0.5, 0.5, 0]\n",
            "\n",
            "Numerical Dissimilarity Matrix (using normalized formula):\n",
            "[0, 0.686, 0.286, 0.414, 0.314]\n",
            "[0.686, 0, 0.4, 0.271, 1.0]\n",
            "[0.286, 0.4, 0, 0.129, 0.6]\n",
            "[0.414, 0.271, 0.129, 0, 0.729]\n",
            "[0.314, 1.0, 0.6, 0.729, 0]\n",
            "\n",
            "Weighted Gower's Mixed Dissimilarity Matrix:\n",
            "[0, 0.895, 0.595, 0.638, 0.438]\n",
            "[0.895, 0, 0.633, 0.59, 1.0]\n",
            "[0.595, 0.633, 0, 0.376, 0.7]\n",
            "[0.638, 0.59, 0.376, 0, 0.743]\n",
            "[0.438, 1.0, 0.7, 0.743, 0]\n",
            "\n"
          ]
        }
      ]
    }
  ]
}